{
 "cells": [
  {
   "cell_type": "code",
   "execution_count": 30,
   "id": "0dc486c3",
   "metadata": {},
   "outputs": [
    {
     "name": "stdout",
     "output_type": "stream",
     "text": [
      "Enter your file directory: C:\\Users\\feiramoh\\OneDrive - Intel Corporation\\Personal\\Growth\\Training\\Big Data Visualisation\\OriginalImages\n",
      "Target Directory:\n",
      "C:\\Users\\feiramoh\\OneDrive - Intel Corporation\\Personal\\Growth\\Training\\Big Data Visualisation\\OriginalImages\n",
      "Done convert image IMG_4027.HEIC to JPG format\n",
      "Done convert image IMG_4069.HEIC to JPG format\n",
      "Done convert image IMG_4070.HEIC to JPG format\n",
      "Done convert image IMG_4075.HEIC to JPG format\n",
      "Done convert image IMG_4076.HEIC to JPG format\n",
      "Done convert image IMG_4077.HEIC to JPG format\n",
      "Done convert image IMG_4078.HEIC to JPG format\n",
      "Done convert image IMG_4079.HEIC to JPG format\n",
      "Done convert image IMG_4080.HEIC to JPG format\n",
      "Done convert image IMG_4081.HEIC to JPG format\n",
      "Done convert image IMG_4082.HEIC to JPG format\n",
      "Done convert image IMG_4083.HEIC to JPG format\n",
      "All .HEIC files found in given folder have successfully converted to JPG format!\n"
     ]
    }
   ],
   "source": [
    "# -*- coding: utf-8 -*-\n",
    "\"\"\"\n",
    "Created on Fri Oct 27 07:59:51 2023\n",
    "\n",
    "@author: feiramoh\n",
    "\"\"\"\n",
    "\n",
    "import os\n",
    "from pathlib import Path\n",
    "\n",
    "from PIL import Image\n",
    "from pillow_heif import register_heif_opener\n",
    "\n",
    "register_heif_opener()\n",
    "\n",
    "targetDir = Path(input('Enter your file directory: '))\n",
    "\n",
    "if os.path.isdir(targetDir):\n",
    "    print(f'Target Directory:\\n{targetDir}')\n",
    "    os.chdir(targetDir)\n",
    "else:\n",
    "    print('Inserted path is not a directory')\n",
    "\n",
    "for filename in os.listdir(os.getcwd()):\n",
    "    currFile = os.path.join(os.getcwd(), filename)\n",
    "    isCurrFileIsDir = os.path.isdir(currFile)\n",
    "    if not isCurrFileIsDir:\n",
    "        extensionHEIC = os.path.splitext(currFile)\n",
    "        if extensionHEIC[1] == '.HEIC':\n",
    "            register_heif_opener()\n",
    "            with Image.open(currFile) as img:\n",
    "                #img.show()\n",
    "                img.save(f'ConvertedImages/{filename.split(\".\")[0]}.jpg')\n",
    "                print(f'Done convert image {filename} to JPG format')\n",
    "\n",
    "print('All .HEIC files found in given folder have successfully converted to JPG format!')\n"
   ]
  },
  {
   "cell_type": "code",
   "execution_count": 22,
   "id": "f84931f8",
   "metadata": {},
   "outputs": [
    {
     "name": "stdout",
     "output_type": "stream",
     "text": [
      "C:\\Users\\feiramoh\\OneDrive - Intel Corporation\\Personal\\Growth\\Training\\Big Data Visualisation\\OriginalImages\n"
     ]
    }
   ],
   "source": [
    "# -*- coding: utf-8 -*-\n",
    "\"\"\"\n",
    "Created on Fri Oct 27 07:59:51 2023\n",
    "\n",
    "@author: feiramoh\n",
    "\"\"\"\n",
    "import os\n",
    "from PIL import Image\n",
    "from pillow_heif import register_heif_opener\n",
    "\n",
    "register_heif_opener()\n",
    "\n",
    "print(os.getcwd())\n",
    "\n",
    "im = Image.open('IMG_4027.heic')\n",
    "#im.show()\n",
    "im.save('ConvertedImages/IMG_4027.jpg')"
   ]
  },
  {
   "cell_type": "code",
   "execution_count": null,
   "id": "1ecd220b",
   "metadata": {},
   "outputs": [],
   "source": []
  }
 ],
 "metadata": {
  "kernelspec": {
   "display_name": "Python 3 (ipykernel)",
   "language": "python",
   "name": "python3"
  },
  "language_info": {
   "codemirror_mode": {
    "name": "ipython",
    "version": 3
   },
   "file_extension": ".py",
   "mimetype": "text/x-python",
   "name": "python",
   "nbconvert_exporter": "python",
   "pygments_lexer": "ipython3",
   "version": "3.11.5"
  }
 },
 "nbformat": 4,
 "nbformat_minor": 5
}
